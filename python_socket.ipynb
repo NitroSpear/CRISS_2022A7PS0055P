{
  "nbformat": 4,
  "nbformat_minor": 0,
  "metadata": {
    "colab": {
      "provenance": [],
      "authorship_tag": "ABX9TyMEvqGL3q6vmvdNDu4BEUhJ",
      "include_colab_link": true
    },
    "kernelspec": {
      "name": "python3",
      "display_name": "Python 3"
    },
    "language_info": {
      "name": "python"
    }
  },
  "cells": [
    {
      "cell_type": "markdown",
      "metadata": {
        "id": "view-in-github",
        "colab_type": "text"
      },
      "source": [
        "<a href=\"https://colab.research.google.com/github/NitroSpear/CRISS_2022A7PS0055P/blob/main/python_socket.ipynb\" target=\"_parent\"><img src=\"https://colab.research.google.com/assets/colab-badge.svg\" alt=\"Open In Colab\"/></a>"
      ]
    },
    {
      "cell_type": "code",
      "execution_count": null,
      "metadata": {
        "id": "gMwIw77w9yaY"
      },
      "outputs": [],
      "source": [
        "import socket \n",
        "\n",
        "serverIP = '172.17.29.11'\n",
        "serverPORT = 6000\n",
        "\n",
        "serveradress = (serverIP, serverPORT)\n",
        "bufferSize = 1024\n",
        "UDPClientSocket=socket.socket(family=socket.AF_INET, type=socket.SOCK_DGRAM)\n",
        "\n",
        "message = 'Hi, my name is Vedant Sindhwani'\n",
        "\n",
        "bytestosend = str.encode(message)\n",
        "\n",
        "UDPClientSocket.sendto(bytestosend, serveradress)"
      ]
    }
  ]
}